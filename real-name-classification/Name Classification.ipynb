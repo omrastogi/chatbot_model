{
 "cells": [
  {
   "cell_type": "code",
   "execution_count": 1,
   "metadata": {},
   "outputs": [],
   "source": [
    "import numpy as np\n",
    "import pandas as pd"
   ]
  },
  {
   "cell_type": "code",
   "execution_count": 88,
   "metadata": {},
   "outputs": [],
   "source": [
    "df = pd.read_csv('name.csv')"
   ]
  },
  {
   "cell_type": "code",
   "execution_count": 89,
   "metadata": {},
   "outputs": [
    {
     "data": {
      "text/html": [
       "<div>\n",
       "<style scoped>\n",
       "    .dataframe tbody tr th:only-of-type {\n",
       "        vertical-align: middle;\n",
       "    }\n",
       "\n",
       "    .dataframe tbody tr th {\n",
       "        vertical-align: top;\n",
       "    }\n",
       "\n",
       "    .dataframe thead th {\n",
       "        text-align: right;\n",
       "    }\n",
       "</style>\n",
       "<table border=\"1\" class=\"dataframe\">\n",
       "  <thead>\n",
       "    <tr style=\"text-align: right;\">\n",
       "      <th></th>\n",
       "      <th>Names</th>\n",
       "      <th>Label</th>\n",
       "    </tr>\n",
       "  </thead>\n",
       "  <tbody>\n",
       "    <tr>\n",
       "      <th>0</th>\n",
       "      <td>Om</td>\n",
       "      <td>1</td>\n",
       "    </tr>\n",
       "    <tr>\n",
       "      <th>1</th>\n",
       "      <td>Ajay</td>\n",
       "      <td>1</td>\n",
       "    </tr>\n",
       "    <tr>\n",
       "      <th>2</th>\n",
       "      <td>Vijay</td>\n",
       "      <td>1</td>\n",
       "    </tr>\n",
       "    <tr>\n",
       "      <th>3</th>\n",
       "      <td>Aman</td>\n",
       "      <td>1</td>\n",
       "    </tr>\n",
       "    <tr>\n",
       "      <th>4</th>\n",
       "      <td>Shubham</td>\n",
       "      <td>1</td>\n",
       "    </tr>\n",
       "  </tbody>\n",
       "</table>\n",
       "</div>"
      ],
      "text/plain": [
       "      Names  Label\n",
       "0        Om      1\n",
       "1     Ajay       1\n",
       "2    Vijay       1\n",
       "3     Aman       1\n",
       "4  Shubham       1"
      ]
     },
     "execution_count": 89,
     "metadata": {},
     "output_type": "execute_result"
    }
   ],
   "source": [
    "df.head()"
   ]
  },
  {
   "cell_type": "code",
   "execution_count": 90,
   "metadata": {},
   "outputs": [],
   "source": [
    "names = df['Names']"
   ]
  },
  {
   "cell_type": "code",
   "execution_count": 91,
   "metadata": {
    "scrolled": true
   },
   "outputs": [],
   "source": [
    "# ascii_names = []\n",
    "# maxlen = 20\n",
    "# for name in names:\n",
    "#     arr = []\n",
    "#     for char in name:\n",
    "#         if char.isupper():\n",
    "#             arr.append((ord(char)+32))\n",
    "#         elif char.islower():\n",
    "#             arr.append(ord(char))\n",
    "#         else:\n",
    "#             continue\n",
    "#     length = 20 - len(arr)\n",
    "#     for _ in range(length):\n",
    "#         arr.append(0)\n",
    "#     arr = np.array(arr)\n",
    "#     if len(arr)>20:\n",
    "#         print (name)\n",
    "#         continue\n",
    "#     arr = arr.reshape(20,1)\n",
    "# #     print (arr.shape)\n",
    "#     ascii_names.append(arr)\n",
    "# ascii_names = np.array(ascii_names)       \n",
    "# # print (ascii_names)"
   ]
  },
  {
   "cell_type": "code",
   "execution_count": 92,
   "metadata": {},
   "outputs": [],
   "source": [
    "def wrd_converter(name):\n",
    "    maxlen = 20\n",
    "    arr = []\n",
    "    for i,char in enumerate(name):\n",
    "        if i>=maxlen:\n",
    "            break\n",
    "        if char.isupper():\n",
    "            arr.append((ord(char)+32)/122)\n",
    "        elif char.islower():\n",
    "            arr.append(ord(char)/122)\n",
    "        else:\n",
    "            continue\n",
    "    length = maxlen - len(arr)\n",
    "    for _ in range(length):\n",
    "        arr.append(0)\n",
    "    arr = np.array(arr)\n",
    "    arr = arr.reshape(20,1)\n",
    "    return arr\n",
    "    "
   ]
  },
  {
   "cell_type": "code",
   "execution_count": 93,
   "metadata": {},
   "outputs": [
    {
     "name": "stdout",
     "output_type": "stream",
     "text": [
      "[[[0.90983607]\n",
      "  [0.89344262]\n",
      "  [0.        ]\n",
      "  ...\n",
      "  [0.        ]\n",
      "  [0.        ]\n",
      "  [0.        ]]\n",
      "\n",
      " [[0.79508197]\n",
      "  [0.86885246]\n",
      "  [0.79508197]\n",
      "  ...\n",
      "  [0.        ]\n",
      "  [0.        ]\n",
      "  [0.        ]]\n",
      "\n",
      " [[0.96721311]\n",
      "  [0.86065574]\n",
      "  [0.86885246]\n",
      "  ...\n",
      "  [0.        ]\n",
      "  [0.        ]\n",
      "  [0.        ]]\n",
      "\n",
      " ...\n",
      "\n",
      " [[1.        ]\n",
      "  [0.95901639]\n",
      "  [0.86065574]\n",
      "  ...\n",
      "  [0.        ]\n",
      "  [0.        ]\n",
      "  [0.        ]]\n",
      "\n",
      " [[1.        ]\n",
      "  [0.95901639]\n",
      "  [0.86065574]\n",
      "  ...\n",
      "  [0.        ]\n",
      "  [0.        ]\n",
      "  [0.        ]]\n",
      "\n",
      " [[1.        ]\n",
      "  [0.95901639]\n",
      "  [0.86065574]\n",
      "  ...\n",
      "  [0.        ]\n",
      "  [0.        ]\n",
      "  [0.        ]]]\n"
     ]
    }
   ],
   "source": [
    "ascii_names = []\n",
    "for name in names:\n",
    "    arr = wrd_converter(name)\n",
    "    ascii_names.append(arr)\n",
    "ascii_names = np.array(ascii_names)       \n",
    "print (ascii_names)"
   ]
  },
  {
   "cell_type": "code",
   "execution_count": 94,
   "metadata": {},
   "outputs": [],
   "source": [
    "NewDf = df.copy()\n",
    "# NewDf['Names'] = ascii_names\n",
    "# NewDf.head()"
   ]
  },
  {
   "cell_type": "code",
   "execution_count": 95,
   "metadata": {},
   "outputs": [],
   "source": [
    "X_train = ascii_names\n",
    "Y_train = np.array(NewDf['Label'])"
   ]
  },
  {
   "cell_type": "code",
   "execution_count": 96,
   "metadata": {},
   "outputs": [
    {
     "data": {
      "text/plain": [
       "(768, 20, 1)"
      ]
     },
     "execution_count": 96,
     "metadata": {},
     "output_type": "execute_result"
    }
   ],
   "source": [
    "X_train.shape"
   ]
  },
  {
   "cell_type": "code",
   "execution_count": 97,
   "metadata": {},
   "outputs": [
    {
     "data": {
      "text/plain": [
       "(768, 1)"
      ]
     },
     "execution_count": 97,
     "metadata": {},
     "output_type": "execute_result"
    }
   ],
   "source": [
    "Y_train = Y_train.reshape(768 ,1)\n",
    "Y_train.shape"
   ]
  },
  {
   "cell_type": "code",
   "execution_count": 98,
   "metadata": {},
   "outputs": [],
   "source": [
    "from sklearn.model_selection import train_test_split"
   ]
  },
  {
   "cell_type": "code",
   "execution_count": 99,
   "metadata": {},
   "outputs": [
    {
     "name": "stdout",
     "output_type": "stream",
     "text": [
      "(514, 20, 1)\n",
      "(254, 20, 1)\n",
      "(514,)\n",
      "(254,)\n"
     ]
    }
   ],
   "source": [
    "X_train =  np.array(ascii_names)\n",
    "Y_train = np.array(NewDf['Label'])\n",
    "train_X,test_X,train_Y,test_Y = train_test_split(X_train, Y_train, test_size=0.33, random_state=42)\n",
    "\n",
    "# X_train = np.reshape(X_train, (X_train.shape[0], X_train.shape[1],1))\n",
    "# test_X  = np.reshape(X_test, (X_test.shape[0], X_test.shape[1],1))\n",
    "# y_train = y_train.reshape(1563,1)\n",
    "# Y_test  =Y_test.reshape(516 ,1)\n",
    "\n",
    "print (train_X.shape)\n",
    "print (test_X.shape)\n",
    "print (train_Y.shape)\n",
    "print (test_Y.shape)"
   ]
  },
  {
   "cell_type": "code",
   "execution_count": 100,
   "metadata": {},
   "outputs": [],
   "source": [
    "from keras.layers.core import Dense, Activation, Dropout\n",
    "from keras.preprocessing import sequence\n",
    "from keras.models import Sequential\n",
    "from keras.layers import Dense, Embedding\n",
    "from keras.layers import LSTM"
   ]
  },
  {
   "cell_type": "code",
   "execution_count": 120,
   "metadata": {},
   "outputs": [],
   "source": [
    "model = Sequential()\n",
    "model.add(LSTM(512, return_sequences=True, input_shape=(20,1)))\n",
    "model.add(Dropout(0.1))\n",
    "model.add(LSTM(256, return_sequences=False))\n",
    "model.add(Dropout(0.2))\n",
    "model.add(Dense(128))\n",
    "model.add(Dense(32))\n",
    "model.add(Dense(8))\n",
    "model.add(Dense(2))\n",
    "model.add(Activation('softmax'))\n",
    "model.compile(loss='sparse_categorical_crossentropy', optimizer='adam',metrics=['accuracy'])"
   ]
  },
  {
   "cell_type": "code",
   "execution_count": 121,
   "metadata": {
    "scrolled": false
   },
   "outputs": [
    {
     "name": "stderr",
     "output_type": "stream",
     "text": [
      "d:\\conda\\envs\\r-tensorflow\\lib\\site-packages\\ipykernel_launcher.py:2: UserWarning: The `nb_epoch` argument in `fit` has been renamed `epochs`.\n",
      "  \n"
     ]
    },
    {
     "name": "stdout",
     "output_type": "stream",
     "text": [
      "Train on 514 samples, validate on 254 samples\n",
      "Epoch 1/10\n",
      "514/514 [==============================] - 9s 17ms/step - loss: 0.6917 - accuracy: 0.5953 - val_loss: 0.6799 - val_accuracy: 0.5748\n",
      "Epoch 2/10\n",
      "514/514 [==============================] - 8s 15ms/step - loss: 0.6765 - accuracy: 0.5992 - val_loss: 0.6796 - val_accuracy: 0.5748\n",
      "Epoch 3/10\n",
      "514/514 [==============================] - 7s 14ms/step - loss: 0.6742 - accuracy: 0.5992 - val_loss: 0.6803 - val_accuracy: 0.5748\n",
      "Epoch 4/10\n",
      "514/514 [==============================] - 8s 16ms/step - loss: 0.6756 - accuracy: 0.5992 - val_loss: 0.6826 - val_accuracy: 0.5748\n",
      "Epoch 5/10\n",
      "514/514 [==============================] - 8s 16ms/step - loss: 0.6767 - accuracy: 0.5992 - val_loss: 0.6861 - val_accuracy: 0.5748\n",
      "Epoch 6/10\n",
      "514/514 [==============================] - 8s 16ms/step - loss: 0.6759 - accuracy: 0.5992 - val_loss: 0.6812 - val_accuracy: 0.5748\n",
      "Epoch 7/10\n",
      "514/514 [==============================] - 8s 16ms/step - loss: 0.6767 - accuracy: 0.5992 - val_loss: 0.6814 - val_accuracy: 0.5748\n",
      "Epoch 8/10\n",
      "514/514 [==============================] - 8s 15ms/step - loss: 0.6736 - accuracy: 0.5992 - val_loss: 0.6810 - val_accuracy: 0.5748\n",
      "Epoch 9/10\n",
      "514/514 [==============================] - 8s 15ms/step - loss: 0.6743 - accuracy: 0.5992 - val_loss: 0.6814 - val_accuracy: 0.5748\n",
      "Epoch 10/10\n",
      "514/514 [==============================] - 8s 16ms/step - loss: 0.6747 - accuracy: 0.5992 - val_loss: 0.6809 - val_accuracy: 0.5748\n"
     ]
    },
    {
     "data": {
      "text/plain": [
       "<keras.callbacks.callbacks.History at 0x24d16569dd8>"
      ]
     },
     "execution_count": 121,
     "metadata": {},
     "output_type": "execute_result"
    }
   ],
   "source": [
    "batch_size=10\n",
    "model.fit(train_X, train_Y, batch_size=batch_size, nb_epoch=10, validation_data=(test_X, test_Y))"
   ]
  },
  {
   "cell_type": "code",
   "execution_count": 117,
   "metadata": {},
   "outputs": [],
   "source": [
    "def predict(name):\n",
    "    arr = wrd_converter(name)\n",
    "    arr = np.array(arr)\n",
    "    arr = arr.reshape(1,arr.shape[0],arr.shape[1])\n",
    "    pred=model.predict(arr)\n",
    "    \n",
    "    return pred"
   ]
  },
  {
   "cell_type": "code",
   "execution_count": 107,
   "metadata": {},
   "outputs": [
    {
     "data": {
      "text/plain": [
       "array([[0.42733112, 0.57266885]], dtype=float32)"
      ]
     },
     "execution_count": 107,
     "metadata": {},
     "output_type": "execute_result"
    }
   ],
   "source": [
    "predict('xxxxy')"
   ]
  },
  {
   "cell_type": "code",
   "execution_count": null,
   "metadata": {},
   "outputs": [],
   "source": []
  },
  {
   "cell_type": "code",
   "execution_count": null,
   "metadata": {},
   "outputs": [],
   "source": []
  }
 ],
 "metadata": {
  "kernelspec": {
   "display_name": "Python 3",
   "language": "python",
   "name": "python3"
  },
  "language_info": {
   "codemirror_mode": {
    "name": "ipython",
    "version": 3
   },
   "file_extension": ".py",
   "mimetype": "text/x-python",
   "name": "python",
   "nbconvert_exporter": "python",
   "pygments_lexer": "ipython3",
   "version": "3.6.10"
  }
 },
 "nbformat": 4,
 "nbformat_minor": 4
}
